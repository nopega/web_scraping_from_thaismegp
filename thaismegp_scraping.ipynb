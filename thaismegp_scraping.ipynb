{
 "cells": [
  {
   "cell_type": "code",
   "execution_count": 6,
   "id": "40333086",
   "metadata": {
    "ExecuteTime": {
     "end_time": "2024-09-19T08:42:46.879178Z",
     "start_time": "2024-09-19T08:42:46.595808Z"
    }
   },
   "outputs": [],
   "source": [
    "import pandas as pd\n",
    "import requests\n",
    "from bs4 import BeautifulSoup"
   ]
  },
  {
   "cell_type": "code",
   "execution_count": 7,
   "id": "ac858e37",
   "metadata": {},
   "outputs": [],
   "source": [
    "from selenium import webdriver\n",
    "from selenium.webdriver.chrome.service import Service\n",
    "from selenium.webdriver.common.by import By\n",
    "from selenium.webdriver.common.keys import Keys\n",
    "import time"
   ]
  },
  {
   "cell_type": "code",
   "execution_count": 8,
   "id": "b423b057",
   "metadata": {},
   "outputs": [],
   "source": [
    "new_url_ = 'https://www.thaismegp.com/smes?province=%E0%B8%9B%E0%B8%97%E0%B8%B8%E0%B8%A1%E0%B8%98%E0%B8%B2%E0%B8%99%E0%B8%B5&firm_title=%E0%B8%99%E0%B8%B4%E0%B8%95%E0%B8%B4%E0%B8%9A%E0%B8%B8%E0%B8%84%E0%B8%84%E0%B8%A5&sector=%E0%B8%A0%E0%B8%B2%E0%B8%84%E0%B8%9A%E0%B8%A3%E0%B8%B4%E0%B8%81%E0%B8%B2%E0%B8%A3&page='"
   ]
  },
  {
   "cell_type": "code",
   "execution_count": 9,
   "id": "c9a7d026",
   "metadata": {},
   "outputs": [],
   "source": [
    "tt = []\n",
    "for i in range (1,3):\n",
    "    driver_path = 'chromedriver.exe'\n",
    "    service = Service(driver_path)\n",
    "    driver = webdriver.Chrome(service=service)\n",
    "\n",
    "    driver.get(new_url_ + str(i))\n",
    "\n",
    "    for _ in range(1,12+1):\n",
    "        element = driver.find_element(By.XPATH,f'//*[@id=\"layout-wrapper\"]/div/div/div[2]/div[3]/div[2]/section/div[3]/div/div[{_}]')\n",
    "        element = element.get_attribute('outerHTML')\n",
    "        tt.append(element)\n",
    "\n",
    "    driver.quit()\n"
   ]
  },
  {
   "cell_type": "code",
   "execution_count": 10,
   "id": "968c467a",
   "metadata": {},
   "outputs": [],
   "source": [
    "import re\n",
    "# Regular expression to find the specific class and extract the email\n",
    "pattern = r'class=\"mt-auto mb-auto me-2\">\\s*(.*?)\\s*</p>'\n",
    "storage =[]\n",
    "for t in tt:\n",
    "    # Search for the pattern\n",
    "    match = re.search(pattern, t)\n",
    "\n",
    "    # Extracted string\n",
    "    if match:\n",
    "        if '<div data-v-0bb4b3b8=\"\" class=\"overlay\">' in t:\n",
    "            storage.append(\"หมดอายุ\")\n",
    "        else:\n",
    "            email = match.group(1).strip()\n",
    "            storage.append(email)  # Print without leading/trailing whitespace\n",
    "    else:\n",
    "        storage.append(\"No match found.\")"
   ]
  },
  {
   "cell_type": "code",
   "execution_count": 11,
   "id": "abf47a09",
   "metadata": {},
   "outputs": [
    {
     "name": "stdout",
     "output_type": "stream",
     "text": [
      "['หมดอายุ', 'info@tnetsecurity.com', 'wchat2539@gmail.com', 'หมดอายุ', 'taservice2006@gmail.com', 'granworldholiday@gmail.com', 'info@worklabthailand.com', 'renu@high-en.com', 'หมดอายุ', 'goodideainvent@gmail.com', 'tac993@gmail.com', 'siamjob@hotmail.com', 'samerdao.doi@gmail.com', 'Chawanun.t@gmail.com', 'หมดอายุ', 'chouwarit@gmail.com', 'wrp.wissawakij@gmail.com', 'info.teamcreation@gmail.com', 'whitevitit@gmail.com', 'pornchai@bridge.co.th', 'admin@smart-q.com', 'asiaplusone@hotmail.com', 'bestlook2113@gmail.com', 'winwinsmile.i@gmail.com']\n"
     ]
    }
   ],
   "source": [
    "print(storage)"
   ]
  }
 ],
 "metadata": {
  "hide_input": false,
  "kernelspec": {
   "display_name": "Python 3",
   "language": "python",
   "name": "python3"
  },
  "language_info": {
   "codemirror_mode": {
    "name": "ipython",
    "version": 3
   },
   "file_extension": ".py",
   "mimetype": "text/x-python",
   "name": "python",
   "nbconvert_exporter": "python",
   "pygments_lexer": "ipython3",
   "version": "3.10.0"
  },
  "toc": {
   "base_numbering": 1,
   "nav_menu": {},
   "number_sections": false,
   "sideBar": true,
   "skip_h1_title": false,
   "title_cell": "Table of Contents",
   "title_sidebar": "Contents",
   "toc_cell": false,
   "toc_position": {},
   "toc_section_display": true,
   "toc_window_display": false
  }
 },
 "nbformat": 4,
 "nbformat_minor": 5
}
