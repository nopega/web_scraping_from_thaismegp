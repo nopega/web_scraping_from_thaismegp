{
 "cells": [
  {
   "cell_type": "code",
   "execution_count": 1,
   "id": "40333086",
   "metadata": {
    "ExecuteTime": {
     "end_time": "2024-09-19T08:42:46.879178Z",
     "start_time": "2024-09-19T08:42:46.595808Z"
    }
   },
   "outputs": [],
   "source": [
    "import pandas as pd\n",
    "import requests\n",
    "from bs4 import BeautifulSoup"
   ]
  },
  {
   "cell_type": "code",
   "execution_count": 4,
   "id": "ac858e37",
   "metadata": {},
   "outputs": [],
   "source": [
    "from selenium import webdriver\n",
    "from selenium.webdriver.chrome.service import Service\n",
    "from selenium.webdriver.common.by import By\n",
    "from selenium.webdriver.common.keys import Keys\n",
    "import time"
   ]
  },
  {
   "cell_type": "code",
   "execution_count": 5,
   "id": "dbe484c2",
   "metadata": {
    "ExecuteTime": {
     "end_time": "2024-09-19T08:57:20.394386Z",
     "start_time": "2024-09-19T08:56:34.333441Z"
    },
    "scrolled": true
   },
   "outputs": [
    {
     "ename": "WebDriverException",
     "evalue": "Message: 'chromedriver.exe' executable needs to be in PATH. Please see https://chromedriver.chromium.org/home\n",
     "output_type": "error",
     "traceback": [
      "\u001b[1;31m---------------------------------------------------------------------------\u001b[0m",
      "\u001b[1;31mFileNotFoundError\u001b[0m                         Traceback (most recent call last)",
      "\u001b[1;32mc:\\Users\\pongk\\AppData\\Local\\Programs\\Python\\Python310\\lib\\site-packages\\selenium\\webdriver\\common\\service.py\u001b[0m in \u001b[0;36mstart\u001b[1;34m(self)\u001b[0m\n\u001b[0;32m     70\u001b[0m             \u001b[0mcmd\u001b[0m\u001b[1;33m.\u001b[0m\u001b[0mextend\u001b[0m\u001b[1;33m(\u001b[0m\u001b[0mself\u001b[0m\u001b[1;33m.\u001b[0m\u001b[0mcommand_line_args\u001b[0m\u001b[1;33m(\u001b[0m\u001b[1;33m)\u001b[0m\u001b[1;33m)\u001b[0m\u001b[1;33m\u001b[0m\u001b[1;33m\u001b[0m\u001b[0m\n\u001b[1;32m---> 71\u001b[1;33m             self.process = subprocess.Popen(cmd, env=self.env,\n\u001b[0m\u001b[0;32m     72\u001b[0m                                             \u001b[0mclose_fds\u001b[0m\u001b[1;33m=\u001b[0m\u001b[0msystem\u001b[0m\u001b[1;33m(\u001b[0m\u001b[1;33m)\u001b[0m \u001b[1;33m!=\u001b[0m \u001b[1;34m'Windows'\u001b[0m\u001b[1;33m,\u001b[0m\u001b[1;33m\u001b[0m\u001b[1;33m\u001b[0m\u001b[0m\n",
      "\u001b[1;32mc:\\Users\\pongk\\AppData\\Local\\Programs\\Python\\Python310\\lib\\subprocess.py\u001b[0m in \u001b[0;36m__init__\u001b[1;34m(self, args, bufsize, executable, stdin, stdout, stderr, preexec_fn, close_fds, shell, cwd, env, universal_newlines, startupinfo, creationflags, restore_signals, start_new_session, pass_fds, user, group, extra_groups, encoding, errors, text, umask, pipesize)\u001b[0m\n\u001b[0;32m    965\u001b[0m \u001b[1;33m\u001b[0m\u001b[0m\n\u001b[1;32m--> 966\u001b[1;33m             self._execute_child(args, executable, preexec_fn, close_fds,\n\u001b[0m\u001b[0;32m    967\u001b[0m                                 \u001b[0mpass_fds\u001b[0m\u001b[1;33m,\u001b[0m \u001b[0mcwd\u001b[0m\u001b[1;33m,\u001b[0m \u001b[0menv\u001b[0m\u001b[1;33m,\u001b[0m\u001b[1;33m\u001b[0m\u001b[1;33m\u001b[0m\u001b[0m\n",
      "\u001b[1;32mc:\\Users\\pongk\\AppData\\Local\\Programs\\Python\\Python310\\lib\\subprocess.py\u001b[0m in \u001b[0;36m_execute_child\u001b[1;34m(self, args, executable, preexec_fn, close_fds, pass_fds, cwd, env, startupinfo, creationflags, shell, p2cread, p2cwrite, c2pread, c2pwrite, errread, errwrite, unused_restore_signals, unused_gid, unused_gids, unused_uid, unused_umask, unused_start_new_session)\u001b[0m\n\u001b[0;32m   1434\u001b[0m             \u001b[1;32mtry\u001b[0m\u001b[1;33m:\u001b[0m\u001b[1;33m\u001b[0m\u001b[1;33m\u001b[0m\u001b[0m\n\u001b[1;32m-> 1435\u001b[1;33m                 hp, ht, pid, tid = _winapi.CreateProcess(executable, args,\n\u001b[0m\u001b[0;32m   1436\u001b[0m                                          \u001b[1;31m# no special security\u001b[0m\u001b[1;33m\u001b[0m\u001b[1;33m\u001b[0m\u001b[0m\n",
      "\u001b[1;31mFileNotFoundError\u001b[0m: [WinError 2] The system cannot find the file specified",
      "\nDuring handling of the above exception, another exception occurred:\n",
      "\u001b[1;31mWebDriverException\u001b[0m                        Traceback (most recent call last)",
      "\u001b[1;32m~\\AppData\\Local\\Temp/ipykernel_23556/3761203032.py\u001b[0m in \u001b[0;36m<module>\u001b[1;34m\u001b[0m\n\u001b[0;32m      2\u001b[0m \u001b[0mdriver_path\u001b[0m \u001b[1;33m=\u001b[0m \u001b[1;34m'chromedriver.exe'\u001b[0m\u001b[1;33m\u001b[0m\u001b[1;33m\u001b[0m\u001b[0m\n\u001b[0;32m      3\u001b[0m \u001b[0mservice\u001b[0m \u001b[1;33m=\u001b[0m \u001b[0mService\u001b[0m\u001b[1;33m(\u001b[0m\u001b[0mdriver_path\u001b[0m\u001b[1;33m)\u001b[0m\u001b[1;33m\u001b[0m\u001b[1;33m\u001b[0m\u001b[0m\n\u001b[1;32m----> 4\u001b[1;33m \u001b[0mdriver\u001b[0m \u001b[1;33m=\u001b[0m \u001b[0mwebdriver\u001b[0m\u001b[1;33m.\u001b[0m\u001b[0mChrome\u001b[0m\u001b[1;33m(\u001b[0m\u001b[0mservice\u001b[0m\u001b[1;33m=\u001b[0m\u001b[0mservice\u001b[0m\u001b[1;33m)\u001b[0m\u001b[1;33m\u001b[0m\u001b[1;33m\u001b[0m\u001b[0m\n\u001b[0m\u001b[0;32m      5\u001b[0m \u001b[1;33m\u001b[0m\u001b[0m\n\u001b[0;32m      6\u001b[0m \u001b[1;31m# Open a website\u001b[0m\u001b[1;33m\u001b[0m\u001b[1;33m\u001b[0m\u001b[0m\n",
      "\u001b[1;32mc:\\Users\\pongk\\AppData\\Local\\Programs\\Python\\Python310\\lib\\site-packages\\selenium\\webdriver\\chrome\\webdriver.py\u001b[0m in \u001b[0;36m__init__\u001b[1;34m(self, executable_path, port, options, service_args, desired_capabilities, service_log_path, chrome_options, service, keep_alive)\u001b[0m\n\u001b[0;32m     68\u001b[0m             \u001b[0mservice\u001b[0m \u001b[1;33m=\u001b[0m \u001b[0mService\u001b[0m\u001b[1;33m(\u001b[0m\u001b[0mexecutable_path\u001b[0m\u001b[1;33m,\u001b[0m \u001b[0mport\u001b[0m\u001b[1;33m,\u001b[0m \u001b[0mservice_args\u001b[0m\u001b[1;33m,\u001b[0m \u001b[0mservice_log_path\u001b[0m\u001b[1;33m)\u001b[0m\u001b[1;33m\u001b[0m\u001b[1;33m\u001b[0m\u001b[0m\n\u001b[0;32m     69\u001b[0m \u001b[1;33m\u001b[0m\u001b[0m\n\u001b[1;32m---> 70\u001b[1;33m         super(WebDriver, self).__init__(DesiredCapabilities.CHROME['browserName'], \"goog\",\n\u001b[0m\u001b[0;32m     71\u001b[0m                                         \u001b[0mport\u001b[0m\u001b[1;33m,\u001b[0m \u001b[0moptions\u001b[0m\u001b[1;33m,\u001b[0m\u001b[1;33m\u001b[0m\u001b[1;33m\u001b[0m\u001b[0m\n\u001b[0;32m     72\u001b[0m                                         \u001b[0mservice_args\u001b[0m\u001b[1;33m,\u001b[0m \u001b[0mdesired_capabilities\u001b[0m\u001b[1;33m,\u001b[0m\u001b[1;33m\u001b[0m\u001b[1;33m\u001b[0m\u001b[0m\n",
      "\u001b[1;32mc:\\Users\\pongk\\AppData\\Local\\Programs\\Python\\Python310\\lib\\site-packages\\selenium\\webdriver\\chromium\\webdriver.py\u001b[0m in \u001b[0;36m__init__\u001b[1;34m(self, browser_name, vendor_prefix, port, options, service_args, desired_capabilities, service_log_path, service, keep_alive)\u001b[0m\n\u001b[0;32m     88\u001b[0m \u001b[1;33m\u001b[0m\u001b[0m\n\u001b[0;32m     89\u001b[0m         \u001b[0mself\u001b[0m\u001b[1;33m.\u001b[0m\u001b[0mservice\u001b[0m \u001b[1;33m=\u001b[0m \u001b[0mservice\u001b[0m\u001b[1;33m\u001b[0m\u001b[1;33m\u001b[0m\u001b[0m\n\u001b[1;32m---> 90\u001b[1;33m         \u001b[0mself\u001b[0m\u001b[1;33m.\u001b[0m\u001b[0mservice\u001b[0m\u001b[1;33m.\u001b[0m\u001b[0mstart\u001b[0m\u001b[1;33m(\u001b[0m\u001b[1;33m)\u001b[0m\u001b[1;33m\u001b[0m\u001b[1;33m\u001b[0m\u001b[0m\n\u001b[0m\u001b[0;32m     91\u001b[0m \u001b[1;33m\u001b[0m\u001b[0m\n\u001b[0;32m     92\u001b[0m         \u001b[1;32mtry\u001b[0m\u001b[1;33m:\u001b[0m\u001b[1;33m\u001b[0m\u001b[1;33m\u001b[0m\u001b[0m\n",
      "\u001b[1;32mc:\\Users\\pongk\\AppData\\Local\\Programs\\Python\\Python310\\lib\\site-packages\\selenium\\webdriver\\common\\service.py\u001b[0m in \u001b[0;36mstart\u001b[1;34m(self)\u001b[0m\n\u001b[0;32m     79\u001b[0m         \u001b[1;32mexcept\u001b[0m \u001b[0mOSError\u001b[0m \u001b[1;32mas\u001b[0m \u001b[0merr\u001b[0m\u001b[1;33m:\u001b[0m\u001b[1;33m\u001b[0m\u001b[1;33m\u001b[0m\u001b[0m\n\u001b[0;32m     80\u001b[0m             \u001b[1;32mif\u001b[0m \u001b[0merr\u001b[0m\u001b[1;33m.\u001b[0m\u001b[0merrno\u001b[0m \u001b[1;33m==\u001b[0m \u001b[0merrno\u001b[0m\u001b[1;33m.\u001b[0m\u001b[0mENOENT\u001b[0m\u001b[1;33m:\u001b[0m\u001b[1;33m\u001b[0m\u001b[1;33m\u001b[0m\u001b[0m\n\u001b[1;32m---> 81\u001b[1;33m                 raise WebDriverException(\n\u001b[0m\u001b[0;32m     82\u001b[0m                     \"'%s' executable needs to be in PATH. %s\" % (\n\u001b[0;32m     83\u001b[0m                         os.path.basename(self.path), self.start_error_message)\n",
      "\u001b[1;31mWebDriverException\u001b[0m: Message: 'chromedriver.exe' executable needs to be in PATH. Please see https://chromedriver.chromium.org/home\n"
     ]
    }
   ],
   "source": [
    "# Specify the path to the ChromeDriver\n",
    "driver_path = 'chromedriver.exe'\n",
    "service = Service(driver_path)\n",
    "driver = webdriver.Chrome(service=service)\n",
    "\n",
    "# Open a website\n",
    "driver.get(url_)\n",
    "\n",
    "# Interact with the page, e.g., finding elements\n",
    "element = driver.find_element(By.XPATH,'//*[@id=\"layout-wrapper\"]/div/div/div[2]/div[3]/div[2]/section/div[3]/div')\n",
    "tt = element.get_attribute('outerHTML')\n",
    "\n",
    "# Close the browser after a delay\n",
    "time.sleep(0.3)\n",
    "driver.quit()"
   ]
  },
  {
   "cell_type": "code",
   "execution_count": 29,
   "id": "f7f510ed",
   "metadata": {
    "ExecuteTime": {
     "end_time": "2024-09-19T09:03:02.439662Z",
     "start_time": "2024-09-19T09:03:02.422561Z"
    },
    "scrolled": true
   },
   "outputs": [],
   "source": [
    "# print(tt)"
   ]
  },
  {
   "cell_type": "code",
   "execution_count": 21,
   "id": "2e4aa4e2",
   "metadata": {
    "ExecuteTime": {
     "end_time": "2024-09-19T09:02:05.086894Z",
     "start_time": "2024-09-19T09:02:05.077175Z"
    }
   },
   "outputs": [
    {
     "data": {
      "text/plain": [
       "str"
      ]
     },
     "execution_count": 21,
     "metadata": {},
     "output_type": "execute_result"
    }
   ],
   "source": [
    "type(tt)"
   ]
  },
  {
   "cell_type": "code",
   "execution_count": 22,
   "id": "6786879c",
   "metadata": {
    "ExecuteTime": {
     "end_time": "2024-09-19T09:02:05.102496Z",
     "start_time": "2024-09-19T09:02:05.089898Z"
    },
    "scrolled": false
   },
   "outputs": [],
   "source": [
    "tt2 = tt.split('div data-v-2e8ab2e2')"
   ]
  },
  {
   "cell_type": "code",
   "execution_count": 30,
   "id": "04daa623",
   "metadata": {
    "ExecuteTime": {
     "end_time": "2024-09-19T09:03:30.972309Z",
     "start_time": "2024-09-19T09:03:30.952815Z"
    }
   },
   "outputs": [
    {
     "data": {
      "text/plain": [
       "14"
      ]
     },
     "execution_count": 30,
     "metadata": {},
     "output_type": "execute_result"
    }
   ],
   "source": [
    "len(tt2)"
   ]
  },
  {
   "cell_type": "code",
   "execution_count": null,
   "id": "77da69a1",
   "metadata": {},
   "outputs": [],
   "source": []
  },
  {
   "cell_type": "code",
   "execution_count": null,
   "id": "32a56697",
   "metadata": {},
   "outputs": [],
   "source": []
  },
  {
   "cell_type": "code",
   "execution_count": null,
   "id": "1ead8826",
   "metadata": {},
   "outputs": [],
   "source": []
  },
  {
   "cell_type": "code",
   "execution_count": null,
   "id": "bdb8308a",
   "metadata": {},
   "outputs": [],
   "source": []
  },
  {
   "cell_type": "code",
   "execution_count": null,
   "id": "0ee9fbd7",
   "metadata": {},
   "outputs": [],
   "source": []
  },
  {
   "cell_type": "code",
   "execution_count": null,
   "id": "02bcda46",
   "metadata": {},
   "outputs": [],
   "source": []
  },
  {
   "cell_type": "code",
   "execution_count": 3,
   "id": "5c634b2e",
   "metadata": {
    "ExecuteTime": {
     "end_time": "2024-09-19T08:42:46.894217Z",
     "start_time": "2024-09-19T08:42:46.880162Z"
    }
   },
   "outputs": [],
   "source": [
    "url_ = 'https://www.thaismegp.com/smes?province=%E0%B8%9B%E0%B8%97%E0%B8%B8%E0%B8%A1%E0%B8%98%E0%B8%B2%E0%B8%99%E0%B8%B5&firm_title=%E0%B8%99%E0%B8%B4%E0%B8%95%E0%B8%B4%E0%B8%9A%E0%B8%B8%E0%B8%84%E0%B8%84%E0%B8%A5&sector=%E0%B8%A0%E0%B8%B2%E0%B8%84%E0%B8%9A%E0%B8%A3%E0%B8%B4%E0%B8%81%E0%B8%B2%E0%B8%A3&page=55'"
   ]
  },
  {
   "cell_type": "code",
   "execution_count": 39,
   "id": "5728068d",
   "metadata": {
    "ExecuteTime": {
     "end_time": "2024-09-19T09:17:22.288922Z",
     "start_time": "2024-09-19T09:17:15.415434Z"
    }
   },
   "outputs": [],
   "source": [
    "tt = []\n",
    "\n",
    "# Specify the path to the ChromeDriver\n",
    "driver_path = 'chromedriver.exe'\n",
    "service = Service(driver_path)\n",
    "driver = webdriver.Chrome(service=service)\n",
    "\n",
    "# Open a website\n",
    "driver.get(url_)\n",
    "\n",
    "# Interact with the page, e.g., finding elements\n",
    "for _ in range(1,12+1):\n",
    "    element = driver.find_element(By.XPATH,f'//*[@id=\"layout-wrapper\"]/div/div/div[2]/div[3]/div[2]/section/div[3]/div/div[{_}]')\n",
    "    element = element.get_attribute('outerHTML')\n",
    "    tt.append(element)\n",
    "\n",
    "# Close the browser after a delay\n",
    "time.sleep(0.3)\n",
    "driver.quit()"
   ]
  },
  {
   "cell_type": "code",
   "execution_count": 51,
   "id": "023219a3",
   "metadata": {
    "ExecuteTime": {
     "end_time": "2024-09-19T09:20:21.644103Z",
     "start_time": "2024-09-19T09:20:21.629066Z"
    },
    "scrolled": true
   },
   "outputs": [],
   "source": [
    "# tt"
   ]
  },
  {
   "cell_type": "code",
   "execution_count": null,
   "id": "68d33e48",
   "metadata": {},
   "outputs": [],
   "source": []
  },
  {
   "cell_type": "code",
   "execution_count": 47,
   "id": "e5b47fb5",
   "metadata": {
    "ExecuteTime": {
     "end_time": "2024-09-19T09:18:36.425540Z",
     "start_time": "2024-09-19T09:18:36.417516Z"
    }
   },
   "outputs": [
    {
     "data": {
      "text/plain": [
       "'<div data-v-2e8ab2e2=\"\" class=\"col-xl-4 col-lg-6 col-md-6 profile-card-wrapper\"><div data-v-0bb4b3b8=\"\" data-v-2e8ab2e2=\"\" class=\"profile-wrapper\" style=\"height: 100%;\"><div data-v-0bb4b3b8=\"\" class=\"profile-content\"><a data-v-2e8ab2e2=\"\" href=\"/sme/614238e65884b2d916f7331a\" class=\"\" data-v-0bb4b3b8=\"\"><div data-v-40e9f95f=\"\" data-v-2e8ab2e2=\"\" class=\"bg-white w-100 h-100 p-2 p-lg-4\"><div data-v-40e9f95f=\"\" class=\"d-flex flex-column align-items-start align-items-md-start flex-md-row list-style card-style\"><div data-v-40e9f95f=\"\" class=\"me-3 flex-shrink-0 d-flex flex-column justify-content-center align-items-center sme-logo\"><div data-v-40e9f95f=\"\" class=\"mb-2 avatar-lg rounded-circle bg-light\"><!----></div></div><div data-v-40e9f95f=\"\" class=\"media-body flex-grow-1 w-100\"><div data-v-40e9f95f=\"\" class=\"text-muted\"><div data-v-40e9f95f=\"\" class=\"d-flex align-items-end mb-2\"><h4 data-v-40e9f95f=\"\" class=\"mb-0 me-2 text-primary d-inline\">\\n            หจก.บาย แอนด์ เคลียร์\\n          </h4><!----></div><table data-v-40e9f95f=\"\" class=\"mb-2 sme-detail-table\"><tr data-v-40e9f95f=\"\" class=\"mb-2\"><td data-v-40e9f95f=\"\" class=\"first-col\">เลขทะเบียน</td><td data-v-40e9f95f=\"\" style=\"width: 1%;\">:</td><td data-v-40e9f95f=\"\" style=\"padding-left: 1rem;\">0133545003671</td></tr><tr data-v-40e9f95f=\"\" class=\"mb-2\"><td data-v-40e9f95f=\"\" class=\"first-col\">ประเภทธุรกิจ</td><td data-v-40e9f95f=\"\" style=\"width: 1%;\">:</td><td data-v-40e9f95f=\"\" style=\"padding-left: 1rem;\">นิติบุคคล</td></tr><tr da'"
      ]
     },
     "execution_count": 47,
     "metadata": {},
     "output_type": "execute_result"
    }
   ],
   "source": [
    "tt[2][:1500]"
   ]
  },
  {
   "cell_type": "code",
   "execution_count": null,
   "id": "fc230563",
   "metadata": {},
   "outputs": [],
   "source": []
  },
  {
   "cell_type": "code",
   "execution_count": 54,
   "id": "0c2f4c94",
   "metadata": {
    "ExecuteTime": {
     "end_time": "2024-09-19T09:21:06.445684Z",
     "start_time": "2024-09-19T09:21:06.434801Z"
    },
    "scrolled": false
   },
   "outputs": [
    {
     "data": {
      "text/plain": [
       "'<div data-v-2e8ab2e2=\"\" class=\"col-xl-4 col-lg-6 col-md-6 profile-card-wrapper\"><div data-v-0bb4b3b8=\"\" data-v-2e8ab2e2=\"\" class=\"profile-wrapper\" style=\"height: 100%;\"><div data-v-0bb4b3b8=\"\" class=\"profile-content\"><a data-v-2e8ab2e2=\"\" href=\"/sme/614238e65884b2d916f7331a\" class=\"\" data-v-0bb4b3b8=\"\"><div data-v-40e9f95f=\"\" data-v-2e8ab2e2=\"\" class=\"bg-white w-100 h-100 p-2 p-lg-4\"><div data-v-40e9f95f=\"\" class=\"d-flex flex-column align-items-start align-items-md-start flex-md-row list-style card-style\"><div data-v-40e9f95f=\"\" class=\"me-3 flex-shrink-0 d-flex flex-column justify-content-center align-items-center sme-logo\"><div data-v-40e9f95f=\"\" class=\"mb-2 avatar-lg rounded-circle bg-light\"><!----></div></div><div data-v-40e9f95f=\"\" class=\"media-body flex-grow-1 w-100\"><div data-v-40e9f95f=\"\" class=\"text-muted\"><div data-v-40e9f95f=\"\" class=\"d-flex align-items-end mb-2\"><h4 data-v-40e9f95f=\"\" class=\"mb-0 me-2 text-primary d-inline\">\\n            หจก.บาย แอนด์ เคลียร์\\n          </h4><!----></div><table data-v-40e9f95f=\"\" class=\"mb-2 sme-detail-table\"><tr data-v-40e9f95f=\"\" class=\"mb-2\"><td data-v-40e9f95f=\"\" class=\"first-col\">เลขทะเบียน</td><td data-v-40e9f95f=\"\" style=\"width: 1%;\">:</td><td data-v-40e9f95f=\"\" style=\"padding-left: 1rem;\">0133545003671</td></tr><tr data-v-40e9f95f=\"\" class=\"mb-2\"><td data-v-40e9f95f=\"\" class=\"first-col\">ประเภทธุรกิจ</td><td data-v-40e9f95f=\"\" style=\"width: 1%;\">:</td><td data-v-40e9f95f=\"\" style=\"padding-left: 1rem;\">นิติบุคคล</td></tr><tr data-v-40e9f95f=\"\" class=\"mb-2\"><td data-v-40e9f95f=\"\" class=\"first-col\">ภาคธุรกิจ</td><td data-v-40e9f95f=\"\" style=\"width: 1%;\">:</td><td data-v-40e9f95f=\"\" style=\"padding-left: 1rem;\">ภาคบริการ</td></tr><tr data-v-40e9f95f=\"\"><td data-v-40e9f95f=\"\" class=\"first-col\">ขนาดธุรกิจ</td><td data-v-40e9f95f=\"\" style=\"width: 1%;\">:</td><td data-v-40e9f95f=\"\" style=\"padding-left: 1rem;\">SMALL</td></tr><tr data-v-40e9f95f=\"\"><td data-v-40e9f95f=\"\" class=\"first-col\">ธุรกิจขนาดย่อม</td><td data-v-40e9f95f=\"\" style=\"width: 1%;\">:</td><td data-v-40e9f95f=\"\" style=\"padding-left: 1rem;\">การบริการดูแลและบำรุงรักษาภูมิทัศน์ (81300)</td></tr></table></div><div data-v-40e9f95f=\"\" class=\"d-flex flex-column mt-3\"><!----><!----><div data-v-40e9f95f=\"\" class=\"d-flex detail-item my-1\"><div data-v-40e9f95f=\"\"><button data-v-40e9f95f=\"\" type=\"button\" class=\"btn me-2 icon-size btn-outline-primary btn-rounded icon-rounded\"><i data-v-40e9f95f=\"\" class=\"bx bx-map font-size-16 align-middle\"></i></button></div><p data-v-40e9f95f=\"\" class=\"mt-auto mb-auto me-4\">\\n              2/15 ถนนเลียบคลอง 11 ตำบลบึงทองหลาง อำเภอลำลูกกา จังหวัดปทุมธานี 12150\\n            </p></div><div data-v-40e9f95f=\"\" class=\"d-flex flex-wrap\"><div data-v-40e9f95f=\"\" class=\"align-items-center detail-item my-1 d-flex\"><div data-v-40e9f95f=\"\"><button data-v-40e9f95f=\"\" type=\"button\" class=\"btn me-2 icon-size btn-outline-primary btn-rounded icon-rounded\"><i data-v-40e9f95f=\"\" class=\"bx bxs-phone font-size-16 align-middle\"></i></button></div><p data-v-40e9f95f=\"\" class=\"mt-auto mb-auto me-4\">\\n                0818901669\\n              </p></div><!----><div data-v-40e9f95f=\"\" class=\"align-items-center detail-item my-1 d-flex\"><div data-v-40e9f95f=\"\"><button data-v-40e9f95f=\"\" type=\"button\" class=\"btn me-2 icon-size btn-outline-primary btn-rounded icon-rounded\"><i data-v-40e9f95f=\"\" class=\"bx bx-envelope font-size-16 align-middle\"></i></button></div><p data-v-40e9f95f=\"\" class=\"mt-auto mb-auto me-2\">\\n                rungliew1669@gmail.com\\n              </p></div></div></div></div></div></div></a></div><div data-v-0bb4b3b8=\"\" class=\"profile-content-ghost\"><a data-v-2e8ab2e2=\"\" href=\"/sme/614238e65884b2d916f7331a\" class=\"\" data-v-0bb4b3b8=\"\"><div data-v-40e9f95f=\"\" data-v-2e8ab2e2=\"\" class=\"bg-white w-100 h-100 p-2 p-lg-4\"><div data-v-40e9f95f=\"\" class=\"d-flex flex-column align-items-start align-items-md-start flex-md-row list-style card-style\"><div data-v-40e9f95f=\"\" class=\"me-3 flex-shrink-0 d-flex flex-column justify-content-center align-items-center sme-logo\"><div data-v-40e9f95f=\"\" class=\"mb-2 avatar-lg rounded-circle bg-light\"><!----></div></div><div data-v-40e9f95f=\"\" class=\"media-body flex-grow-1 w-100\"><div data-v-40e9f95f=\"\" class=\"text-muted\"><div data-v-40e9f95f=\"\" class=\"d-flex align-items-end mb-2\"><h4 data-v-40e9f95f=\"\" class=\"mb-0 me-2 text-primary d-inline\">\\n            หจก.บาย แอนด์ เคลียร์\\n          </h4><!----></div><table data-v-40e9f95f=\"\" class=\"mb-2 sme-detail-table\"><tr data-v-40e9f95f=\"\" class=\"mb-2\"><td data-v-40e9f95f=\"\" class=\"first-col\">เลขทะเบียน</td><td data-v-40e9f95f=\"\" style=\"width: 1%;\">:</td><td data-v-40e9f95f=\"\" style=\"padding-left: 1rem;\">0133545003671</td></tr><tr data-v-40e9f95f=\"\" class=\"mb-2\"><td data-v-40e9f95f=\"\" class=\"first-col\">ประเภทธุรกิจ</td><td data-v-40e9f95f=\"\" style=\"width: 1%;\">:</td><td data-v-40e9f95f=\"\" style=\"padding-left: 1rem;\">นิติบุคคล</td></tr><tr data-v-40e9f95f=\"\" class=\"mb-2\"><td data-v-40e9f95f=\"\" class=\"first-col\">ภาคธุรกิจ</td><td data-v-40e9f95f=\"\" style=\"width: 1%;\">:</td><td data-v-40e9f95f=\"\" style=\"padding-left: 1rem;\">ภาคบริการ</td></tr><tr data-v-40e9f95f=\"\"><td data-v-40e9f95f=\"\" class=\"first-col\">ขนาดธุรกิจ</td><td data-v-40e9f95f=\"\" style=\"width: 1%;\">:</td><td data-v-40e9f95f=\"\" style=\"padding-left: 1rem;\">SMALL</td></tr><tr data-v-40e9f95f=\"\"><td data-v-40e9f95f=\"\" class=\"first-col\">ธุรกิจขนาดย่อม</td><td data-v-40e9f95f=\"\" style=\"width: 1%;\">:</td><td data-v-40e9f95f=\"\" style=\"padding-left: 1rem;\">การบริการดูแลและบำรุงรักษาภูมิทัศน์ (81300)</td></tr></table></div><div data-v-40e9f95f=\"\" class=\"d-flex flex-column mt-3\"><!----><!----><div data-v-40e9f95f=\"\" class=\"d-flex detail-item my-1\"><div data-v-40e9f95f=\"\"><button data-v-40e9f95f=\"\" type=\"button\" class=\"btn me-2 icon-size btn-outline-primary btn-rounded icon-rounded\"><i data-v-40e9f95f=\"\" class=\"bx bx-map font-size-16 align-middle\"></i></button></div><p data-v-40e9f95f=\"\" class=\"mt-auto mb-auto me-4\">\\n              2/15 ถนนเลียบคลอง 11 ตำบลบึงทองหลาง อำเภอลำลูกกา จังหวัดปทุมธานี 12150\\n            </p></div><div data-v-40e9f95f=\"\" class=\"d-flex flex-wrap\"><div data-v-40e9f95f=\"\" class=\"align-items-center detail-item my-1 d-flex\"><div data-v-40e9f95f=\"\"><button data-v-40e9f95f=\"\" type=\"button\" class=\"btn me-2 icon-size btn-outline-primary btn-rounded icon-rounded\"><i data-v-40e9f95f=\"\" class=\"bx bxs-phone font-size-16 align-middle\"></i></button></div><p data-v-40e9f95f=\"\" class=\"mt-auto mb-auto me-4\">\\n                0818901669\\n              </p></div><!----><div data-v-40e9f95f=\"\" class=\"align-items-center detail-item my-1 d-flex\"><div data-v-40e9f95f=\"\"><button data-v-40e9f95f=\"\" type=\"button\" class=\"btn me-2 icon-size btn-outline-primary btn-rounded icon-rounded\"><i data-v-40e9f95f=\"\" class=\"bx bx-envelope font-size-16 align-middle\"></i></button></div><p data-v-40e9f95f=\"\" class=\"mt-auto mb-auto me-2\">\\n                rungliew1669@gmail.com\\n              </p></div></div></div></div></div></div></a></div><div data-v-0bb4b3b8=\"\" class=\"overlay\"><div data-v-0bb4b3b8=\"\" class=\"d-flex justify-content-end align-items-center\"><p data-v-0bb4b3b8=\"\" class=\"close-icon\"><i data-v-0bb4b3b8=\"\" class=\"bx bx-x\"></i></p></div><div data-v-0bb4b3b8=\"\" class=\"d-flex flex-column flex-md-row justify-content-center align-items-center cert-content\"><img data-v-0bb4b3b8=\"\" src=\"/img/certificate.1f6a5259.png\" class=\"me-4\"><p data-v-0bb4b3b8=\"\">\\n        หนังสือรับรองฯ หมดอายุแล้วตั้งแต่ 30 มิถุนายน 2567\\n        <br data-v-0bb4b3b8=\"\"><span data-v-0bb4b3b8=\"\">\\n          จึงไม่สามารถใช้สิทธิประโยชน์ที่ต่อเนื่องได้ ผู้ประกอบการสามารถต่ออายุหนังสือรับรอง ปี 2567\\n      ง่าย ๆ ที่รูปฟันเฟือง ในบัญชีกิจการของท่าน\\n        </span></p></div><div data-v-0bb4b3b8=\"\"></div></div><!----></div></div>'"
      ]
     },
     "execution_count": 54,
     "metadata": {},
     "output_type": "execute_result"
    }
   ],
   "source": [
    "tt[2]"
   ]
  },
  {
   "cell_type": "code",
   "execution_count": 66,
   "id": "bb424cd0",
   "metadata": {
    "ExecuteTime": {
     "end_time": "2024-09-19T09:33:18.063654Z",
     "start_time": "2024-09-19T09:33:18.045873Z"
    }
   },
   "outputs": [
    {
     "name": "stdout",
     "output_type": "stream",
     "text": [
      "Substring found.\n"
     ]
    }
   ],
   "source": []
  },
  {
   "cell_type": "code",
   "execution_count": 60,
   "id": "1241df6f",
   "metadata": {
    "ExecuteTime": {
     "end_time": "2024-09-19T09:29:57.310422Z",
     "start_time": "2024-09-19T09:29:57.297710Z"
    }
   },
   "outputs": [
    {
     "name": "stdout",
     "output_type": "stream",
     "text": [
      "cnlaundry@gmail.com\n",
      "nugool13@hotmail.com\n",
      "rungliew1669@gmail.com\n",
      "ekachai.solution@gmail.com\n",
      "savvy.engineering.ss@gmail.com\n",
      "tkkservice@hotmail.com\n",
      "w.ch.888construction@gmail.com\n",
      "amnauyaimboon2516@gmail.com\n",
      "ratcha.lighting@gmail.com\n",
      "No match found.\n",
      "No match found.\n",
      "No match found.\n"
     ]
    }
   ],
   "source": [
    "import re\n",
    "# Regular expression to find the specific class and extract the email\n",
    "pattern = r'class=\"mt-auto mb-auto me-2\">\\s*(.*?)\\s*</p>'\n",
    "\n",
    "for t in tt:\n",
    "\n",
    "    # Search for the pattern\n",
    "    match = re.search(pattern, t)\n",
    "\n",
    "    # Extracted string\n",
    "    if match:\n",
    "        if '<div data-v-0bb4b3b8=\"\" class=\"overlay\">' in tt[2]:\n",
    "            print('Substring found.')\n",
    "        else:\n",
    "            print('not')\n",
    "            email = match.group(1).strip()\n",
    "            print(email)  # Print without leading/trailing whitespace\n",
    "    else:\n",
    "        print(\"No match found.\")"
   ]
  },
  {
   "cell_type": "code",
   "execution_count": 70,
   "id": "969763e5",
   "metadata": {
    "ExecuteTime": {
     "end_time": "2024-09-19T09:34:36.460884Z",
     "start_time": "2024-09-19T09:34:36.452733Z"
    }
   },
   "outputs": [
    {
     "name": "stdout",
     "output_type": "stream",
     "text": [
      "cnlaundry@gmail.com\n",
      "nugool13@hotmail.com\n",
      "ekachai.solution@gmail.com\n",
      "savvy.engineering.ss@gmail.com\n",
      "tkkservice@hotmail.com\n",
      "w.ch.888construction@gmail.com\n",
      "ratcha.lighting@gmail.com\n",
      "No match found.\n",
      "No match found.\n",
      "No match found.\n"
     ]
    }
   ],
   "source": [
    "import re\n",
    "# Regular expression to find the specific class and extract the email\n",
    "pattern = r'class=\"mt-auto mb-auto me-2\">\\s*(.*?)\\s*</p>'\n",
    "\n",
    "for t in tt:\n",
    "\n",
    "    # Search for the pattern\n",
    "    match = re.search(pattern, t)\n",
    "\n",
    "    # Extracted string\n",
    "    if match:\n",
    "        if '<div data-v-0bb4b3b8=\"\" class=\"overlay\">' in t:\n",
    "            pass\n",
    "#             print('Substring found.')\n",
    "        else:\n",
    "#             print('not')\n",
    "            email = match.group(1).strip()\n",
    "            print(email)  # Print without leading/trailing whitespace\n",
    "    else:\n",
    "        print(\"No match found.\")"
   ]
  }
 ],
 "metadata": {
  "hide_input": false,
  "kernelspec": {
   "display_name": "Python 3",
   "language": "python",
   "name": "python3"
  },
  "language_info": {
   "codemirror_mode": {
    "name": "ipython",
    "version": 3
   },
   "file_extension": ".py",
   "mimetype": "text/x-python",
   "name": "python",
   "nbconvert_exporter": "python",
   "pygments_lexer": "ipython3",
   "version": "3.10.0"
  },
  "toc": {
   "base_numbering": 1,
   "nav_menu": {},
   "number_sections": false,
   "sideBar": true,
   "skip_h1_title": false,
   "title_cell": "Table of Contents",
   "title_sidebar": "Contents",
   "toc_cell": false,
   "toc_position": {},
   "toc_section_display": true,
   "toc_window_display": false
  }
 },
 "nbformat": 4,
 "nbformat_minor": 5
}
